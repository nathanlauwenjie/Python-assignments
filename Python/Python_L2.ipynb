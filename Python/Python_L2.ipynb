{
 "cells": [
  {
   "cell_type": "markdown",
   "id": "2deccd56-7881-4ba3-881e-8f888bde4ab8",
   "metadata": {},
   "source": [
    "## Operators  \n",
    "\n",
    "In L101, assignment operator `=` and arithmetic operators `+ - * / // % **` were introduced.\n",
    "\n",
    "For this lesson, you will learn about relational operators and logical operators."
   ]
  },
  {
   "cell_type": "markdown",
   "id": "57f67db7-ea4e-40a6-877c-0854fcd4f42d",
   "metadata": {
    "jupyter": {
     "source_hidden": true
    }
   },
   "source": [
    "### Relational operators\n",
    "\n",
    "These operators are used to compared two values(left and right) and returns a `bool` value(`True` or `False`) .  \n",
    "\n",
    "- Less than `<` : Returns `True` if left value is less than right value, otherwise return `False`\n",
    "> `2024 < 2024`  \n",
    "- Less than or equal to `<=` : Returns `True` if left value is less than or equal to right value, otherwise return `False`\n",
    "> `2024 <= 2024`  \n",
    "- Greater than `>` : Returns `True` if left value is greater than right value, otherwise return `False`\n",
    "> `75 > 80`\n",
    "- Greater than or equal to `>=` : Returns `True` if left value is greater than or equal right value, otherwise return `False`\n",
    "> `200 > 199`\n",
    "- Equivalence `==` : Returns `True` if left value is equal right value, otherwise return `False`\n",
    "> `\"Jason\" == 'Jason'`, `25 == 25`\n",
    "- Not equal `!=` : Returns `True` if left value is not equal to right value, otherwise return `False`\n",
    "> `\"Hello\" != \"Hel1o\"`, `80 != 79.9999`"
   ]
  },
  {
   "cell_type": "markdown",
   "id": "13e843bc-dd5d-473e-a425-5decb04e5a58",
   "metadata": {},
   "source": [
    "## Control Flow Statements\n",
    "\n",
    "Programming instruction that changes the order in which other instructions are run.\n",
    "\n",
    "There are two broad categories of control flow statements\n",
    "1. Selection : if-else, if-elif-else\n",
    "2. Repetition : for-in, while\n",
    "\n"
   ]
  },
  {
   "cell_type": "markdown",
   "id": "80d77e72-bc0d-4c06-bed4-4fb22032c9b7",
   "metadata": {},
   "source": [
    "### **if-else** \n",
    "`if-else` statements are used to allow the program to decide which of the 2 possible outcomes based on the a result of relational check. \n",
    "\n",
    "The basic syntax:  \n",
    "> `if condition_a:`  \n",
    "> `    statements to be run when condition_a is true`  \n",
    "> `else:`  \n",
    "> `    statements to be run when condition_a is false`\n",
    "\n",
    "*condition_a* is usually a relational check, which return a `True` or `False` value. If condition_a is true, the else statements will not be executed."
   ]
  },
  {
   "cell_type": "markdown",
   "id": "1d34248f-d552-40e8-a6e8-f3341f86ab54",
   "metadata": {},
   "source": [
    "# if-else example\n",
    "# Complete the following program, print out the number of years the user has to wait to be able to vote.\n",
    "\n",
    "age = input(\"Enter your age: \")\n",
    "age = int(age)\n",
    "if age >= 21:\n",
    "   print(\"You are old enough to vote!\")\n",
    "else:\n",
    "    print(\"You are not eligible to vote\")\n",
    "\n"
   ]
  },
  {
   "cell_type": "markdown",
   "id": "0b0d5885-7de2-44b8-8f72-db4095c81191",
   "metadata": {},
   "source": [
    "### **if-elif-else** \n",
    "`if-elif-else` statements are used when there are more than 2 possible outcomes.   \n",
    "`elif` is a combination of the word else and if\n",
    "\n",
    "The basic syntax:  \n",
    "> `if condition_a:`  \n",
    "> `    statements to be run when condition_a is true`  \n",
    "> `elif condition_b:`  \n",
    "> `    statements to be run when condition_b is true`  \n",
    "> `else:`  \n",
    "> `    statements to be run when all conditions are false`  \n",
    "\n",
    "When a condition is true, all other elif and else statements will not be executed"
   ]
  },
  {
   "cell_type": "code",
   "execution_count": 8,
   "id": "76b87541-5695-4836-9391-ccd98e1b3e60",
   "metadata": {},
   "outputs": [
    {
     "ename": "SyntaxError",
     "evalue": "invalid syntax (1285216447.py, line 5)",
     "output_type": "error",
     "traceback": [
      "\u001b[0;36m  Cell \u001b[0;32mIn[8], line 5\u001b[0;36m\u001b[0m\n\u001b[0;31m    if age >18 age:\u001b[0m\n\u001b[0m               ^\u001b[0m\n\u001b[0;31mSyntaxError\u001b[0m\u001b[0;31m:\u001b[0m invalid syntax\n"
     ]
    }
   ],
   "source": [
    "# if-else-elif example\n",
    "\n",
    "age = input\n",
    "age = int(age)\n",
    "if age >18 age: \n",
    "  print(\"Welcome\")\n",
    "else:\n",
    "  print(\"You must be 18 or above to visit this website.\")\n",
    "\n"
   ]
  },
  {
   "cell_type": "code",
   "execution_count": null,
   "id": "98146c1e-cb7b-48d4-b975-dccfc2499f34",
   "metadata": {},
   "outputs": [],
   "source": []
  },
  {
   "cell_type": "code",
   "execution_count": 9,
   "id": "393fede3-4c59-43b5-b664-b009d0e6b441",
   "metadata": {},
   "outputs": [
    {
     "ename": "SyntaxError",
     "evalue": "invalid syntax (306746118.py, line 3)",
     "output_type": "error",
     "traceback": [
      "\u001b[0;36m  Cell \u001b[0;32mIn[9], line 3\u001b[0;36m\u001b[0m\n\u001b[0;31m    cost = ??? #delete the ??? and fill in the value yourself\u001b[0m\n\u001b[0m           ^\u001b[0m\n\u001b[0;31mSyntaxError\u001b[0m\u001b[0;31m:\u001b[0m invalid syntax\n"
     ]
    }
   ],
   "source": [
    "# if-else-elif example\n",
    "cash = 3.5\n",
    "cost = ??? #delete the ??? and fill in the value yourself\n",
    "has_frisbee = True\n",
    "\n",
    "if cash >= cost:\n",
    "    print(\"Let's go canteen! Om nom nom...\")\n",
    "elif has_frisbee:\n",
    "    print(\"Let's go to the field! Wheee...\")\n",
    "else:\n",
    "    print(\"Wallow in corner...\")"
   ]
  },
  {
   "cell_type": "markdown",
   "id": "18ffb4cc-fb0e-4779-ab74-86c34a8dfee3",
   "metadata": {},
   "source": [
    "#### Expression\n",
    "When a condition consist of 2 or more relational checks.  \n",
    "\n",
    "A logical operator is used inbetween two checka. The logical operation will decide if the expression is `True` or `False`.   \n",
    "- `and` Conjunction : Return `True` if both condition_a and condition_b are true, otherwise, return `False`  \n",
    "> `condition_a and condition_b`  \n",
    "> `if marks >= 70 and marks < 75:`  \n",
    "> `    grade = \"A2\"`\n",
    "- `or`  Disjunction : Return `True` if either condition_a or condition_b is true, otherwise, return `False`  \n",
    "> `condition_a or condtion_b`  \n",
    "> `if math_marks < 50 or like_Python == False:`  \n",
    "> `    print(\"Do not choose CP+ AS\")` \n",
    "- `not` Negate : Return the opposite value of a `bool`.  \n",
    "> `not True` will return `False` vice versa\n"
   ]
  },
  {
   "cell_type": "code",
   "execution_count": 10,
   "id": "d4742c56-632c-4488-8ce3-a69b825679d8",
   "metadata": {},
   "outputs": [
    {
     "ename": "SyntaxError",
     "evalue": "invalid syntax (3856572762.py, line 9)",
     "output_type": "error",
     "traceback": [
      "\u001b[0;36m  Cell \u001b[0;32mIn[10], line 9\u001b[0;36m\u001b[0m\n\u001b[0;31m    if AL = 4-6\u001b[0m\n\u001b[0m          ^\u001b[0m\n\u001b[0;31mSyntaxError\u001b[0m\u001b[0;31m:\u001b[0m invalid syntax\n"
     ]
    }
   ],
   "source": [
    "# Expression exercise\n",
    "# Write a program that ask the user for any amount of required information (you decide)\n",
    "# Based on those information, perform check(s) and then output if the user is eligile for SST.\n",
    "# Extension: checks and output if the user is eligible for Raffles Girls' School\n",
    "# AL score required:\n",
    "#    SST : AL4 - AL20\n",
    "#    RGS : AL4 - AL6\n",
    "\n",
    "if AL = 4-6\n",
    "print\"You can go to RGS\"\n",
    "else \n",
    "print\"You cannot go to RGS\"\n",
    "if gender = male\n",
    "print\"You cannot go to RGS\"\n",
    "else\n",
    "print\"You can go to RGS\"\n"
   ]
  },
  {
   "cell_type": "markdown",
   "id": "85bd16bb-b31f-40d5-9ab9-fb1da25d2f34",
   "metadata": {},
   "source": [
    "## Reflection Exercises"
   ]
  },
  {
   "cell_type": "code",
   "execution_count": null,
   "id": "b59bb4bc-c388-4ded-88f4-7fe1fc44ff8d",
   "metadata": {},
   "outputs": [],
   "source": [
    "# Reflection Exercise 2a\n",
    "# You are task by a private clubhouse to write a simple program to help with their entry management.\n",
    "# If the person is the club member, display \"Welcome to SSTea Party!\"\n",
    "# Otherwise, ask for the person's age. If user is above 17, display the message \n",
    "#   \"This clubhouse is for members only. Please head to front counter to sign up for membership.\"\n",
    "# Otherwise, display the message \"Sorry, you are underage to enter this clubhouse.\"\n"
   ]
  },
  {
   "cell_type": "code",
   "execution_count": null,
   "id": "26c39759-1db4-47fa-ad25-d5e5b3c8d03f",
   "metadata": {},
   "outputs": [],
   "source": [
    "# Reflection Exercise 2b\n",
    "# Eular Polyhedron formula\n",
    "#     V - E + F = 2\n",
    "# where v are vertices, e are edges and f are faces\n",
    "#\n",
    "# Write a program that ask the user to enter V, E, F. Of the three inputs, one of them is a zero value.\n",
    "# Find out which one is zero and output the correct value \n",
    "#\n",
    "# example\n",
    "# Please enter V : 8\n",
    "# Please enter E : 0\n",
    "# Please enter F : 6\n",
    "# The value of E is 12\n",
    "\n"
   ]
  }
 ],
 "metadata": {
  "kernelspec": {
   "display_name": "Python 3 (ipykernel)",
   "language": "python",
   "name": "python3"
  },
  "language_info": {
   "codemirror_mode": {
    "name": "ipython",
    "version": 3
   },
   "file_extension": ".py",
   "mimetype": "text/x-python",
   "name": "python",
   "nbconvert_exporter": "python",
   "pygments_lexer": "ipython3",
   "version": "3.8.18"
  },
  "toc-autonumbering": false
 },
 "nbformat": 4,
 "nbformat_minor": 5
}

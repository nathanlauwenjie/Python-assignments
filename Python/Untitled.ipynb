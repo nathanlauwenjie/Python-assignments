{
 "cells": [
  {
   "cell_type": "code",
   "execution_count": 4,
   "id": "62df9940-2ca1-44b5-992b-5f062b8ee87a",
   "metadata": {},
   "outputs": [
    {
     "ename": "SyntaxError",
     "evalue": "unexpected EOF while parsing (1823878608.py, line 7)",
     "output_type": "error",
     "traceback": [
      "\u001b[0;36m  Cell \u001b[0;32mIn[4], line 7\u001b[0;36m\u001b[0m\n\u001b[0;31m    print((0.1+0.1+0.1)==0.3)\u001b[0m\n\u001b[0m                              ^\u001b[0m\n\u001b[0;31mSyntaxError\u001b[0m\u001b[0;31m:\u001b[0m unexpected EOF while parsing\n"
     ]
    }
   ],
   "source": [
    "# Reflection Exercise 1a\n",
    "# Write a program that get the length and width of a rectangle from user.\n",
    "# Calculate and display the area and perimeter of the rectangangle.\n",
    "\n",
    "length = int(\n",
    "\n",
    "print((0.1+0.1+0.1)==0.3) \n"
   ]
  },
  {
   "cell_type": "code",
   "execution_count": 5,
   "id": "9b923596-7e4b-4536-9943-2be0616a1a32",
   "metadata": {},
   "outputs": [
    {
     "ename": "IndentationError",
     "evalue": "expected an indented block (3935844129.py, line 4)",
     "output_type": "error",
     "traceback": [
      "\u001b[0;36m  Cell \u001b[0;32mIn[5], line 4\u001b[0;36m\u001b[0m\n\u001b[0;31m    print(\"You are old enough to vote!\")\u001b[0m\n\u001b[0m    ^\u001b[0m\n\u001b[0;31mIndentationError\u001b[0m\u001b[0;31m:\u001b[0m expected an indented block\n"
     ]
    }
   ],
   "source": [
    "age = input(\"Enter your age: \")\n",
    "age = int(age)\n",
    "if age >= 21:\n",
    "print(\"You are old enough to vote!\")\n",
    "age=30\n"
   ]
  },
  {
   "cell_type": "code",
   "execution_count": null,
   "id": "8a6a8147-434d-48fb-89b8-8549067265d6",
   "metadata": {},
   "outputs": [],
   "source": []
  },
  {
   "cell_type": "code",
   "execution_count": null,
   "id": "06c89c9e-4e16-42bf-af66-59a24cd6074f",
   "metadata": {},
   "outputs": [],
   "source": []
  }
 ],
 "metadata": {
  "kernelspec": {
   "display_name": "Python 3 (ipykernel)",
   "language": "python",
   "name": "python3"
  },
  "language_info": {
   "codemirror_mode": {
    "name": "ipython",
    "version": 3
   },
   "file_extension": ".py",
   "mimetype": "text/x-python",
   "name": "python",
   "nbconvert_exporter": "python",
   "pygments_lexer": "ipython3",
   "version": "3.8.18"
  }
 },
 "nbformat": 4,
 "nbformat_minor": 5
}

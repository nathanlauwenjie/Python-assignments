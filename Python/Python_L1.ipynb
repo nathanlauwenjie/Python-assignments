{
 "cells": [
  {
   "cell_type": "markdown",
   "id": "772ca9d2-41fa-409c-b9d8-4df2f1683499",
   "metadata": {},
   "source": [
    "## Variables\n",
    "Computers are designed to store and read values quickly and reliably. To take advantage of this, we will need to learn two types of Python instructions: one for assigning values and one for reading values."
   ]
  },
  {
   "cell_type": "markdown",
   "id": "1518106c-bb8f-4624-8f9a-9a07e59268a8",
   "metadata": {
    "tags": []
   },
   "source": [
    "### Assigning Values\n",
    "To assign or keep a value in Python, we need a name(also known as identifier) as well as a corresponding value to be assigned.\n",
    "The equal symbol = is used, the syntax is as follows: \n",
    "> **variable_name = value**\n",
    "\n",
    "There are rules for naming a variable:\n",
    "1. Can contain uppercase or lowercase letters (A - Z, a - z)\n",
    "2. Can contain numbers (0 - 9) but cannot start with a number\n",
    "3. Can contain underscore symbol (_)\n",
    "4. Cannot contain any other characters (e.g. $ % # or a space)\n",
    "5. Cannot be of a reserved word that has special meaning in Python\n",
    "    > *False, None, True, and, as, assert, break, class, continue, def, del, elif, else, except, finally, for, from, global, if, import, in, is, lambda, nonlocal, not, or, pass, raise, return, try, while, with, yield*\n",
    "            \n",
    "        "
   ]
  },
  {
   "cell_type": "code",
   "execution_count": null,
   "id": "d8097905-61d7-4a64-b143-8c223bb88aea",
   "metadata": {
    "tags": []
   },
   "outputs": [],
   "source": [
    "# When a variable name is invalid, it will cause a syntax error\n",
    "\n",
    "age = 15\n",
    "my_name = \"Jason\"\n",
    "2A = 15           #start with number\n",
    "my school = \"SST\" #contains a space\n",
    "cost$ = 5.80      #contains invalid special character\n",
    "class = \"407\"     #using a reserved word\n"
   ]
  },
  {
   "cell_type": "code",
   "execution_count": null,
   "id": "a954a9d4-d378-4960-8416-347c42d73011",
   "metadata": {
    "tags": []
   },
   "outputs": [],
   "source": [
    "# Exercise 1.0\n",
    "# Change all the variables to have valid names.\n",
    "\n",
    "age = 15\n",
    "my_name = \"Jason\"\n",
    "A = 15           \n",
    "my school = \"SST\" \n",
    "cost = 5.80     \n",
    "Classroom = \"407\"     \n"
   ]
  },
  {
   "cell_type": "markdown",
   "id": "7343ccaf-e8b4-47c9-8394-c19ebf5d713d",
   "metadata": {
    "tags": []
   },
   "source": [
    "### Reading Values\n",
    "We can retrieve the value assigned to a variable by using the variable’s name. Python will use the last assigned value.\n",
    "\n",
    "To display the value of a variable on the screen, use the *print()* function as follows\n",
    ">print(variable_name)"
   ]
  },
  {
   "cell_type": "code",
   "execution_count": null,
   "id": "8471948c-33e2-41cb-8b2b-5d7d40d65fe3",
   "metadata": {
    "tags": []
   },
   "outputs": [],
   "source": [
    "my_name = \"Jason\"\n",
    "print(my_name)     #Jason\n",
    "my_name = \"Jane\"\n",
    "my_name = \"Jenny\"\n",
    "print(my_name)     #Jenny"
   ]
  },
  {
   "cell_type": "code",
   "execution_count": null,
   "id": "e7f34824-14ea-444b-89d3-dbe0dfd3aca1",
   "metadata": {
    "tags": []
   },
   "outputs": [],
   "source": [
    "# If you try to read a variable that does not correspond to any variable that was used or defined previously, \n",
    "# Python will produce an error message instead:\n",
    "\n",
    "print(his_name)"
   ]
  },
  {
   "cell_type": "markdown",
   "id": "0462c002-a75b-46e7-a763-1e48849ad295",
   "metadata": {
    "jp-MarkdownHeadingCollapsed": true
   },
   "source": [
    "### Reading and Assigning at the same time\n",
    "You can take value from one variable, manipulate it and then assign the new value to another variable.\n",
    "> `book_cost = 5.5`  \n",
    "> `gst = book_cost * 0.08`\n",
    "\n",
    "You can even manipulate the value and then re-assigned back to itself\n",
    "> `age = 14`  \n",
    "> `age = age + 1`"
   ]
  },
  {
   "cell_type": "code",
   "execution_count": null,
   "id": "ffdf6abc-f684-4915-ad52-89cfe9fff149",
   "metadata": {},
   "outputs": [],
   "source": [
    "book_cost = 5.5\n",
    "gst = book_cost * 0.08\n",
    "print(gst)\n",
    "\n",
    "age = 14\n",
    "age = age + 1\n",
    "print(age)"
   ]
  },
  {
   "cell_type": "markdown",
   "id": "82a891f5-a3fb-4da4-b5f1-c05f6909b2fc",
   "metadata": {},
   "source": [
    "### *None* Value\n",
    "A variable may have value missing or no suitable value assigned to it at some point during run time. Since Python will produce an error message when trying to retrieve a variable that has not been defined, that variable can be create and assigned a special None value to indicates the value is missing.  \n",
    "> `variable_1 = None` "
   ]
  },
  {
   "cell_type": "markdown",
   "id": "0c11e12e-0658-4c4e-a151-4d77f7b9122b",
   "metadata": {},
   "source": [
    "### Built-in Data Types\n",
    "\n",
    "There are six built-in types in Python: *numerics & boolean, sequences, mappings, classes, instances and exceptions*. \n",
    "For this basic Python module, only numberics, boolean and text sequence are covered.\n"
   ]
  },
  {
   "cell_type": "markdown",
   "id": "b9416aaa-29b0-4288-a812-7be8e64de1a0",
   "metadata": {},
   "source": [
    "#### Numerics \n",
    "There are three distinct numeric types: integers, floating point numbers, and complex numbers. In addition, Booleans are a subtype of integers.\n",
    "\n",
    "All `int` and `float` supports the following arithmetic operation\n",
    "- `x + y` sum of x and y\n",
    "- `x - y` difference of x and y\n",
    "- `x * y` product of x and y\n",
    "- `x / y` quotient of x and y\n",
    "- `x // y` floored quotient of x and y\n",
    "- `x % y` remainder of `x / y`\n",
    "- `-x` negate x\n",
    "- `abs(x)` absolute value or magnitude of x\n",
    "- `int(x)` x converted to integer\n",
    "- `float(x)` x converted to floating point\n",
    "- `pow(x, y)` x to the power y\n",
    "- `x ** y` x to the power of y"
   ]
  },
  {
   "cell_type": "code",
   "execution_count": null,
   "id": "3af3cf80-7019-4a4c-bd69-2bc68c045549",
   "metadata": {},
   "outputs": [],
   "source": [
    "# Q1. Find the area and perimeter of the rectangle\n",
    "length = 5\n",
    "width = 10\n",
    "\n",
    "# Q2. There are x number of students. There class layout allows 6 seats per row. \n",
    "#     How many full rows are required to fully sits x students?\n",
    "#     How many extra seat(s) is required?\n",
    "x = 37\n",
    "\n",
    "fullRows=x//6\n"
   ]
  },
  {
   "cell_type": "markdown",
   "id": "3b831828-0b38-492c-bce5-5c086e18def8",
   "metadata": {},
   "source": [
    "#### Boolean \n",
    "Booleans represent truth values. The `bool` type has exactly two constant instances: `True` and `False`.\n",
    "\n",
    "The built-in function `bool()` converts any value to a boolean, if the value can be interpreted as a truth value.\n",
    "\n",
    "`bool` is a subclass of `int`. In many numeric contexts, `False` and `True` behave like the integers 0 and 1, respectively. However, relying on this is discouraged; explicitly convert using `int()` instead."
   ]
  },
  {
   "cell_type": "code",
   "execution_count": null,
   "id": "0953872e-9e41-40fb-ae08-da3db28769ef",
   "metadata": {},
   "outputs": [],
   "source": [
    "is_here = True\n",
    "print(is_here)\n",
    "a_num = 50\n",
    "print(bool(a_num))\n",
    "\n",
    "# Find out :-\n",
    "#  what is the boolean value of negative number?\n"
   ]
  },
  {
   "cell_type": "markdown",
   "id": "503a12dd-d6c7-4ced-8aac-fe49d727faa6",
   "metadata": {},
   "source": [
    "#### Text Sequence\n",
    "Textual data in Python is handled with `str` objects, or strings. Strings are immutable sequences of characters (Unicode code points). String literals are written in a variety of ways:\n",
    "- Single quote `'This is a string'`, `'Hello'`\n",
    "- Double quotes `\"This is also a string\"`, `\"World\"`\n",
    "- Triple quotes `'''This is triple quotations'''`, `'''Programmer'''`\n",
    "\n",
    "*String methods* (non-exhaustive)\n",
    "- `str(x)` convert x to a string\n",
    "- `str.upper()` convert entire str to upper case letters\n",
    "- `str.lower()` convert entire str to lower case letters\n",
    "\n",
    "*Special escape characters*\n",
    "- `'\\n'` new line\n",
    "- `'\\t'` horizontal tab\n"
   ]
  },
  {
   "cell_type": "code",
   "execution_count": null,
   "id": "c11d680c-9bee-40a1-9bc6-ad1aa796e939",
   "metadata": {},
   "outputs": [],
   "source": [
    "string1 = \"Hello World\"\n",
    "string2 = string1.upper()\n",
    "print(string2)\n",
    "\n",
    "print(\"Hello\\nWorld!\")\n",
    "print(\"New\\tProgrammer\\t!!!\")"
   ]
  },
  {
   "cell_type": "markdown",
   "id": "1cbb1804-8f4c-4acb-a810-95561b4b592a",
   "metadata": {},
   "source": [
    "*Arithmetic operators that works with string*\n",
    "- Concatenation `+` join the right string onto the end of the left string  \n",
    "> `\"Hello\" + \"World\"` will produce `\"HelloWorld\"`  \n",
    "- Repetition `*` repeat the content of the string a number of times\n",
    "> `\"Hello\" * 3` will produce `\"HelloHelloHello\"`\n",
    "  \n"
   ]
  },
  {
   "cell_type": "code",
   "execution_count": null,
   "id": "df714650-46e5-4082-b4f5-f8c94115d501",
   "metadata": {},
   "outputs": [],
   "source": [
    "# Try it out yourself\n",
    "str1 = \"sometext\"\n",
    "str2 = \"someothertext\"\n",
    "num1 = 4\n",
    "\n",
    "# Can you concatenate a string with a non-string?\n",
    "# Can you repeat a string strings number of time? (multiple by a string instead of a number)\n",
    "# Can you repeat a string with a floating point value?"
   ]
  },
  {
   "cell_type": "code",
   "execution_count": null,
   "id": "bdd176ae-36c3-4e33-b3c8-2399002b4670",
   "metadata": {
    "tags": []
   },
   "outputs": [],
   "source": [
    "# Exercise: The following code takes in input as string, convert both inputs into appropriate numerical data type. \n",
    "length = '20'\n",
    "width = '8'\n",
    "area = length * width\n",
    "print(\"The area is\", area)\n",
    "\n"
   ]
  },
  {
   "cell_type": "markdown",
   "id": "6aa39201-3e1a-4445-b42f-d661e534f193",
   "metadata": {
    "tags": []
   },
   "source": [
    "## Input and output built-in functions\n",
    "\n",
    "### Output: print()\n",
    "\n",
    "*`print(*objects, sep=' ', end='\\n', file=None, flush=False)`*\n",
    "Print objects to the text stream file, separated by sep and followed by end. sep, end, file, and flush, if present, must be given as keyword arguments.\n",
    "\n"
   ]
  },
  {
   "cell_type": "code",
   "execution_count": 1,
   "id": "edd29cbf-5ab8-41f4-bce4-7448ab67b5e1",
   "metadata": {},
   "outputs": [
    {
     "name": "stdout",
     "output_type": "stream",
     "text": [
      "Jason\n",
      "3-13\n",
      "\n",
      "Jason 3-13\n",
      "Jason~*~*3-13\n",
      "Jason 3-13\n"
     ]
    }
   ],
   "source": [
    "my_name = \"Jason\"\n",
    "my_class = \"3-13\"\n",
    "\n",
    "print(my_name)\n",
    "print(my_class)\n",
    "print()\n",
    "\n",
    "# changing the default value of sep parameter\n",
    "print(my_name, my_class)\n",
    "print(my_name, my_class, sep=\"~*~*\")\n",
    "\n",
    "\n",
    "# changing the default value of end parameter\n",
    "print(my_name, end=\" \")\n",
    "print(my_class)"
   ]
  },
  {
   "cell_type": "markdown",
   "id": "7d7a2ae0-d09d-4f9e-b6d1-d24b4ce03f6d",
   "metadata": {},
   "source": [
    "### Input: input()\n",
    "\n",
    "*`input(prompt)`*\n",
    "The prompt argument must be string(s). The function then reads a line from input, converts it to a **string** (stripping a trailing newline), and returns that.  \n",
    "The data returned by input function will always be a string, proper conversion(s) is required to ensure your program run correctly!"
   ]
  },
  {
   "cell_type": "code",
   "execution_count": null,
   "id": "b3d3acb4-610e-4194-a838-5795b93687be",
   "metadata": {},
   "outputs": [],
   "source": [
    "# Without a prompt make it difficult for user to know what is to be entered.\n",
    "name1 = input()\n",
    "print(Nahan)\n",
    "\n",
    "# input with prompt\n",
    "name2 = input(\"Nathan: \")\n",
    "# print() can take in multiple objects as arguements\n",
    "print(\"Hello\", name2)\n",
    "print(\"Hello\"+name2)\n",
    "\n",
    "a = 10\n",
    "print(\"The number is\", a)\n",
    "print(\"The number is \" + str (a)) # This will cause an error because int cannot be added to string \n",
    "apple = input\n",
    "\n",
    "Apple: 6\n",
    "Orange: 8\n",
    "Total\n"
   ]
  },
  {
   "cell_type": "markdown",
   "id": "b08cd8d9-8675-47d5-944f-004862c1e22a",
   "metadata": {},
   "source": [
    "## Reflection Exercises"
   ]
  },
  {
   "cell_type": "code",
   "execution_count": null,
   "id": "b66f2071-0c63-4111-a850-d5b3b93cb5d8",
   "metadata": {},
   "outputs": [],
   "source": [
    "# Reflection Exercise 1a\n",
    "# Write a program that get the length and width of a rectangle from user.\n",
    "# Calculate and display the area and perimeter of the rectangle.\n",
    "\n",
    "Area= l"
   ]
  },
  {
   "cell_type": "code",
   "execution_count": null,
   "id": "dce5237d-8964-49fe-a15c-1103351401f4",
   "metadata": {},
   "outputs": [],
   "source": [
    "# Reflection Exercise 1b\n",
    "# Write a program that get a total cost and number of people from the user\n",
    "# Apply taxes (GST, service charge) and display the amount each person needed to pay.\n"
   ]
  }
 ],
 "metadata": {
  "kernelspec": {
   "display_name": "Python 3 (ipykernel)",
   "language": "python",
   "name": "python3"
  },
  "language_info": {
   "codemirror_mode": {
    "name": "ipython",
    "version": 3
   },
   "file_extension": ".py",
   "mimetype": "text/x-python",
   "name": "python",
   "nbconvert_exporter": "python",
   "pygments_lexer": "ipython3",
   "version": "3.8.18"
  }
 },
 "nbformat": 4,
 "nbformat_minor": 5
}

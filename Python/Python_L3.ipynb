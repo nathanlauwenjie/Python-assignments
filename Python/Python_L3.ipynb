{
 "cells": [
  {
   "cell_type": "markdown",
   "id": "7c165e64-d8b5-4ab6-8d93-dfbae6b61a08",
   "metadata": {},
   "source": [
    "## Control Flow Statements\n",
    "\n",
    "**Repetition** (also known as loops) are block of codes that are repeated as long as the condition(s) are `True`  \n",
    "There are 2 main types of loop for Python:\n",
    "1. for-in\n",
    "2. while\n"
   ]
  },
  {
   "cell_type": "markdown",
   "id": "9e9f91c6-c392-46e9-bb3a-c6bff1b7d2cc",
   "metadata": {},
   "source": [
    "### for-in \n",
    "`for-in` statement is use when the actual sequence is known. It will traverse through the sequence in order (ascending or descending).\n",
    "The basic `for-in` syntax:  \n",
    "`for item in sequence:`  \n",
    "`    codes to be executed for item`\n",
    "\n",
    "The two basic sequences covered will be integer and text.   "
   ]
  },
  {
   "cell_type": "markdown",
   "id": "9ae1506b-1509-412b-b490-6703a375c430",
   "metadata": {},
   "source": [
    "#### Integer sequence\n",
    "\n",
    "Using the `range()` built-in function, a range of integers can be generate.  \n",
    "The basic syntax:  \n",
    "1.`range(stop)`  \n",
    "2.`range(start, stop[, step])`\n",
    "\n",
    "*start*  \n",
    ">The value of the start parameter (or 0 if the parameter was not supplied)\n",
    "\n",
    "*stop*  \n",
    ">The value of the stop parameter\n",
    "\n",
    "*step*  \n",
    ">The value of the step parameter (or 1 if the parameter was not supplied)\n"
   ]
  },
  {
   "cell_type": "code",
   "execution_count": null,
   "id": "efb3e73d-9730-420e-b760-310a5d46d144",
   "metadata": {
    "tags": []
   },
   "outputs": [],
   "source": [
    "# for-in integer sequence example\n",
    "\n",
    "for n in range(10):\n",
    "    print(n, sep =' ')\n",
    "    \n",
    "for n in range(5, 10):\n",
    "    print(n, sep =' ')\n",
    "\n",
    "for n in range(3, 39, 3):\n",
    "    print(n, sep =' ')"
   ]
  },
  {
   "cell_type": "markdown",
   "id": "3370b576-886e-41b8-bc95-0275c06a1f22",
   "metadata": {},
   "source": [
    "#### Text Sequence\n",
    "\n",
    "A text sequence is a string data type. `for-in` can be use to tranverse each letter of the string.\n"
   ]
  },
  {
   "cell_type": "code",
   "execution_count": null,
   "id": "e0ccc5e3-0a32-423c-abe2-931661b1c9ba",
   "metadata": {},
   "outputs": [],
   "source": [
    "# for-in text sequence example\n",
    "mytext = \"Hello World!\"\n",
    "for ch in mytext:\n",
    "    print(ch, sep=\" ~ \")"
   ]
  },
  {
   "cell_type": "markdown",
   "id": "df86cb55-4203-4686-b768-6606ac8a7e7c",
   "metadata": {},
   "source": [
    "### while\n",
    "\n",
    "`while` statement is used when the amount of repetition is not known during compile time.  \n",
    "The basic syntax:  \n",
    "`while (condition):`  \n",
    "`    codes to be executed when the condition is true`  \n"
   ]
  },
  {
   "cell_type": "markdown",
   "id": "b4f61831-670c-4653-9c50-07676fac9dad",
   "metadata": {},
   "source": [
    "#### Dangers of while loop\n",
    "\n",
    "If the condition is stated properly, it may cause this loop to:\n",
    "1. *Does not start*  \n",
    "> `num = 10`  \n",
    "> `while num > 10:`  \n",
    "> `    print(num)`  \n",
    "\n",
    "2. *Does not end*\n",
    "> `num = 0`  \n",
    "> `while num < 10:`  \n",
    "> `    print(num)`  \n",
    "\n",
    "**It is the responsibility of the programmer to ensure the while loop can start and can eventually stop**\n",
    "\n",
    "*Within the while loop block, there must be a way to eventually causes the condition(s) to be false.*\n",
    "`num = 0`  \n",
    "`while num < 10:`    \n",
    "`     print(num)`  \n",
    "`     num = num + 1`  <-- This line will increase the value of num by 1\n",
    "\n",
    "\n"
   ]
  },
  {
   "cell_type": "code",
   "execution_count": null,
   "id": "52903f00-b0a3-4c95-b105-597189c1323f",
   "metadata": {
    "tags": []
   },
   "outputs": [],
   "source": [
    "# while loop example\n",
    "\n",
    "name = input(\"Enter your name, or !end to quit: \")\n",
    "while name != \"!end\":\n",
    "    print(\"Hello,\", name,\"!!!\")\n",
    "    name = input(\"Enter your name, or !end to quit: \")\n",
    "\n",
    "print(\"Good bye!\")\n"
   ]
  },
  {
   "cell_type": "markdown",
   "id": "f30470bb-65bc-4226-b321-f608783e56da",
   "metadata": {},
   "source": [
    "### while versus for-in\n",
    "\n",
    "The `while` loop provide greater flexibility and control, it can do everything the `for-in` loop does.  \n",
    "The followings example of printing a number from 0 to n.  \n",
    "\n",
    "**while**  \n",
    "`n = int(input(\"Enter n: \"))`  \n",
    "`count = 0`  \n",
    "`while count <= n:`  \n",
    "`    print(count)`  \n",
    "`    count = count + 1`  \n",
    "\n",
    "**for-in**  \n",
    "`n = int(input(\"Enter n: \"))`  \n",
    "`for count in range(n):`  \n",
    "`    print(count)`\n",
    "\n",
    "When you know the exact sequence required, a `for-in` loop provide a more direct approach compared to `while` loop."
   ]
  },
  {
   "cell_type": "markdown",
   "id": "b1e2076c-2958-450d-9cec-cb4eb55a6942",
   "metadata": {},
   "source": [
    "## Reflection Exercises"
   ]
  },
  {
   "cell_type": "code",
   "execution_count": null,
   "id": "ede68ceb-031d-4fb3-b9ac-c2778e202003",
   "metadata": {},
   "outputs": [],
   "source": [
    "# Reflection exercise 1\n",
    "# Ask the user to a positive integer, n. Print out all the values from n to 0.\n",
    "\n",
    "n = int(input(\"Enter n: \"))\n"
   ]
  },
  {
   "cell_type": "code",
   "execution_count": null,
   "id": "eef01d76-fc72-458d-857e-00c5e503fa94",
   "metadata": {},
   "outputs": [],
   "source": [
    "# Reflection exercise 2\n",
    "# Ask the user for a positive integer, n. Print out all the even value(s) from -n to n.\n",
    "\n",
    "n = int(input(\"Enter n: \"))\n"
   ]
  },
  {
   "cell_type": "code",
   "execution_count": null,
   "id": "d17f576c-d971-4123-8702-1e8104fa86e0",
   "metadata": {},
   "outputs": [],
   "source": [
    "# Reflection exercise 3\n",
    "# Ask user for a phrase, ph. Print out all the vowels in ph\n",
    "\n",
    "ph = input(\"Enter a phrase: \")\n"
   ]
  },
  {
   "cell_type": "code",
   "execution_count": null,
   "id": "1fbcbbc6-de9e-4c0f-9fa4-2b197d929edd",
   "metadata": {
    "editable": true,
    "slideshow": {
     "slide_type": ""
    },
    "tags": []
   },
   "outputs": [],
   "source": [
    "# Reflection exercise 4\n",
    "# Ask the user to enter an integer, n\n",
    "# If n is positive, add it to a running total, then ask the user to enter n again\n",
    "# If n is not positive, display the value of the running total and end the program.\n",
    "\n",
    "total = 0\n",
    "n = int(input(\"n:\"))\n",
    "\n"
   ]
  },
  {
   "cell_type": "code",
   "execution_count": null,
   "id": "4df7d24e-de60-40a8-8c19-14744889ab41",
   "metadata": {},
   "outputs": [],
   "source": [
    "# Reflection exercise 4 extension\n",
    "# Display the range of all the input (The range is the difference between the smallest and highest numbers)\n",
    "# Display the average of all even numbers.\n",
    "\n",
    "total,small,high = 0, None, None \n",
    "n = int(input(\"n\" )) \n",
    "\n",
    "while n >= 0:\n",
    "    total += n \n",
    "\n",
    "if small ==  None and high == None: \n",
    "    small, high = n, n\n",
    "else: \n",
    "    if n < small:\n",
    "        small = n\n",
    "    if n > high:\n",
    "        high = n\n",
    "\n",
    "n = int(input(\"n\")) \n",
    "\n",
    "diff = high - small \n",
    "\n",
    "print(\"Total:\", Total)\n",
    "print(\"difference:\",diff) \n",
    "print(\"average of even n:\", evenAvg) \n"
   ]
  },
  {
   "cell_type": "code",
   "execution_count": null,
   "id": "6ed81416-1c25-46c8-a1d8-138e35e03156",
   "metadata": {},
   "outputs": [],
   "source": []
  }
 ],
 "metadata": {
  "kernelspec": {
   "display_name": "Python 3 (ipykernel)",
   "language": "python",
   "name": "python3"
  },
  "language_info": {
   "codemirror_mode": {
    "name": "ipython",
    "version": 3
   },
   "file_extension": ".py",
   "mimetype": "text/x-python",
   "name": "python",
   "nbconvert_exporter": "python",
   "pygments_lexer": "ipython3",
   "version": "3.8.18"
  },
  "toc-autonumbering": false
 },
 "nbformat": 4,
 "nbformat_minor": 5
}

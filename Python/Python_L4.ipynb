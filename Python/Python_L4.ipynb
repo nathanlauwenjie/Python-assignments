{
 "cells": [
  {
   "cell_type": "markdown",
   "id": "3587cf6c-41a2-45bf-80d8-eb598f0909a1",
   "metadata": {},
   "source": [
    "## Loop inside a loop\n",
    "\n",
    "A loop can contain loop(s) within its iterated code.  \n",
    "\n",
    "`for a in range(10):`    #Loop_A  \n",
    "`    for b in range(8):`  #Loop_B  \n",
    "`        print(\"*\")`  \n",
    "The above example contains two for-loops, it is commonly known as \"double for-loops\"\n",
    "\n",
    "Loop_A repeats 10 times, and for each repeat, it will run Loop_B 8 times.  \n",
    "Hence, 80 `*` will be printed. Loop_A * Loop_B (10 * 8 = 80).  \n",
    "\n",
    "### Double Loops\n",
    "Double loops (`for` or `while`) are commonly use to traverse over a table, grid.  \n",
    "\n",
    "Consider the following image made up of the letter x:  \n",
    "xxxxxx  \n",
    "xxxxxx  \n",
    "xxxxxx  \n",
    "xxxxxx  \n",
    "xxxxxx  \n",
    "\n",
    "1. There are a total of 5 rows, and each row has 6 x's (columns)  \n",
    "2. there are a total 6 columns and each column has 5 x's (rows)\n",
    "\n",
    "Because Python print in a left to right, then top to bottom order, it make more programming sense to use the first statement.  \n",
    "> There are a total of 5 rows, and each row has 6 x's (columns)  "
   ]
  },
  {
   "cell_type": "code",
   "execution_count": null,
   "id": "7db40ee8-8f08-47b2-849b-d2a89eb20608",
   "metadata": {
    "tags": []
   },
   "outputs": [],
   "source": [
    "# Code to print out the rectangle of x\n",
    "\n",
    "row = 5\n",
    "col = 6\n",
    "for each_row in range(row):\n",
    "    for each_col in range(col):\n",
    "        print(\"x\", end=\"\")\n",
    "    print()                      #print a newline after printing out all column of each row\n"
   ]
  },
  {
   "cell_type": "markdown",
   "id": "a3976822-9690-4e86-b213-cda0b4b70017",
   "metadata": {},
   "source": [
    "## Exercise"
   ]
  },
  {
   "cell_type": "code",
   "execution_count": 4,
   "id": "0933d98e-cc88-4b66-8e00-757427db7ed2",
   "metadata": {
    "tags": []
   },
   "outputs": [],
   "source": [
    "# Part 1\n",
    "# Write a program to:\n",
    "# Ask user for an integer, n.\n",
    "# Display a square of n by n of \"*\"\n",
    "# Eg. n = 5\n",
    "# ***** \n",
    "# *****\n",
    "# *****\n",
    "# *****\n",
    "# *****\n"
   ]
  },
  {
   "cell_type": "code",
   "execution_count": 1,
   "id": "6dad30f1-6163-4768-815a-1079a591dee5",
   "metadata": {},
   "outputs": [
    {
     "name": "stdin",
     "output_type": "stream",
     "text": [
      "n:  5\n"
     ]
    },
    {
     "name": "stdout",
     "output_type": "stream",
     "text": [
      "*\n",
      "*\n",
      "*\n",
      "*\n",
      "*\n",
      "*\n",
      "*\n",
      "*\n",
      "*\n",
      "*\n",
      "*\n",
      "*\n",
      "*\n",
      "*\n",
      "*\n"
     ]
    }
   ],
   "source": [
    "# Part 2.1\n",
    "# Extend your program to also display the following triangle\n",
    "# Eg. n = 5\n",
    "# *\n",
    "# **\n",
    "# ***          \n",
    "# ****\n",
    "# *****\n",
    "n = int(input(\"n: \")) \n",
    "for r in range(n,0,-1):\n",
    "    for c in range(1, r+1):\n",
    "        print(\"*\", end=\"\")\n",
    "        print() "
   ]
  },
  {
   "cell_type": "code",
   "execution_count": 2,
   "id": "9f99422b-bca0-4f70-9a85-6d955367c471",
   "metadata": {},
   "outputs": [
    {
     "name": "stdin",
     "output_type": "stream",
     "text": [
      "n:  5\n"
     ]
    },
    {
     "name": "stdout",
     "output_type": "stream",
     "text": [
      "*\n",
      "*\n",
      "*\n",
      "*\n",
      "*\n",
      "*\n",
      "*\n",
      "*\n",
      "*\n",
      "*\n",
      "*\n",
      "*\n",
      "*\n",
      "*\n",
      "*\n"
     ]
    }
   ],
   "source": [
    "# Part 2.2\n",
    "# Extend your program to also display the following triangle\n",
    "# Eg. n = 5\n",
    "# *****\n",
    "# ****\n",
    "# ***          \n",
    "# **\n",
    "# *\n",
    "n = int(input(\"n: \")) \n",
    "for r in range(n,0,-1):\n",
    "    for c in range(1, r+1):\n",
    "        print(\"*\", end=\"\")\n",
    "        print() "
   ]
  },
  {
   "cell_type": "code",
   "execution_count": 19,
   "id": "703e0cdf-76c9-4b0b-96b7-75349a629d17",
   "metadata": {},
   "outputs": [
    {
     "name": "stdin",
     "output_type": "stream",
     "text": [
      "n:  5\n"
     ]
    },
    {
     "name": "stdout",
     "output_type": "stream",
     "text": [
      "*****\n",
      " ****\n",
      "  ***\n",
      "   **\n",
      "    *\n"
     ]
    }
   ],
   "source": [
    "# Part 3.1\n",
    "# Extend your program to also display the following triangle\n",
    "# Eg. n = 5\n",
    "# ***** 0,5 = 5\n",
    "#  **** 1,4 = 5\n",
    "#   *** 2,3 = 5        \n",
    "#    ** 3,2 = 5\n",
    "#     * 4,1 = 5\n",
    "\n",
    "n= int(input(\"n: \"))\n",
    "\n",
    "for r in range(n):\n",
    "    star= n - r\n",
    "    for sp in range(r):\n",
    "        print(\" \", end=\"\")\n",
    "    for st in range(star):\n",
    "        print('*',end=\"\")\n",
    "    print()"
   ]
  },
  {
   "cell_type": "code",
   "execution_count": null,
   "id": "1de66099-ee9c-46f6-88d1-09aa4df38834",
   "metadata": {},
   "outputs": [],
   "source": []
  },
  {
   "cell_type": "code",
   "execution_count": 12,
   "id": "7859772c-9e9b-435d-b4f1-307c49946b19",
   "metadata": {},
   "outputs": [],
   "source": [
    "# Part 3.2\n",
    "# Extend your program to also display the following triangle\n",
    "# Eg. n = 5\n",
    "#     *\n",
    "#    **\n",
    "#   ***          \n",
    "#  ****\n",
    "# *****\n",
    "\n",
    "n = int(input("
   ]
  },
  {
   "cell_type": "code",
   "execution_count": 13,
   "id": "eb75227c-f0ed-46f0-9941-27161cde0b38",
   "metadata": {},
   "outputs": [],
   "source": [
    "# Part 4\n",
    "# Extend your program to also display the following hourglass\n",
    "# Eg. n = 5\n",
    "# *****\n",
    "#  ***\n",
    "#   *          \n",
    "#  ***\n",
    "# *****\n",
    "# How would you print if n is even value?\n"
   ]
  },
  {
   "cell_type": "code",
   "execution_count": null,
   "id": "f95d612b-57a6-4dc6-b19b-7305dd0c251f",
   "metadata": {},
   "outputs": [],
   "source": []
  }
 ],
 "metadata": {
  "kernelspec": {
   "display_name": "Python 3 (ipykernel)",
   "language": "python",
   "name": "python3"
  },
  "language_info": {
   "codemirror_mode": {
    "name": "ipython",
    "version": 3
   },
   "file_extension": ".py",
   "mimetype": "text/x-python",
   "name": "python",
   "nbconvert_exporter": "python",
   "pygments_lexer": "ipython3",
   "version": "3.8.18"
  }
 },
 "nbformat": 4,
 "nbformat_minor": 5
}
